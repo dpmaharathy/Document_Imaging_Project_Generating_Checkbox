{
 "cells": [
  {
   "cell_type": "code",
   "execution_count": 1,
   "metadata": {},
   "outputs": [],
   "source": [
    "import os\n",
    "import subprocess\n",
    "import pdflatex"
   ]
  },
  {
   "cell_type": "code",
   "execution_count": 3,
   "metadata": {},
   "outputs": [
    {
     "name": "stdout",
     "output_type": "stream",
     "text": [
      "PDF generated for f1.tex.\n",
      "PDF generated for f1_1.tex.\n",
      "PDF generated for f1_2.tex.\n",
      "PDF generated for f1_3.tex.\n",
      "PDF generated for f1_4.tex.\n"
     ]
    }
   ],
   "source": [
    "\n",
    "def generate_pdf_from_tex(tex_file, output_path):\n",
    "    # Extract the filename without extension\n",
    "    tex_file_name = os.path.splitext(os.path.basename(tex_file))[0]\n",
    "    \n",
    "    # Run pdflatex command to compile LaTeX file into PDF\n",
    "    subprocess.run([r\"C:\\Users\\HP\\AppData\\Local\\Programs\\MiKTeX\\miktex\\bin\\x64\\pdflatex.exe\", '-output-directory=' + output_path, tex_file])\n",
    "    # subprocess.run(['pdflatex, '-output-directory=' + output_path, tex_file])\n",
    "\n",
    "\n",
    "# Directory containing LaTeX files\n",
    "latex_directory = r'C:\\Users\\HP\\Downloads\\Forms\\latex'\n",
    "\n",
    "# Directory to save PDF files\n",
    "output_directory = r'C:\\Users\\HP\\Downloads\\Forms\\pdfs'\n",
    "\n",
    "# Iterate over each file in the LaTeX directory\n",
    "for filename in os.listdir(latex_directory):\n",
    "    if filename.endswith('.tex'):\n",
    "        tex_file_path = os.path.join(latex_directory, filename)\n",
    "        \n",
    "        # Generate PDF from LaTeX file\n",
    "        generate_pdf_from_tex(tex_file_path, output_directory)\n",
    "        print(f'PDF generated for {filename}.')"
   ]
  },
  {
   "cell_type": "code",
   "execution_count": 2,
   "metadata": {},
   "outputs": [
    {
     "name": "stdout",
     "output_type": "stream",
     "text": [
      "File f1_1.tex generated.\n"
     ]
    }
   ],
   "source": [
    "import re\n",
    "\n",
    "# Define the input and output file paths\n",
    "input_file = 'f1.tex'\n",
    "output_prefix = 'f1_'\n",
    "\n",
    "# Read the LaTeX file\n",
    "with open(input_file, 'r') as f:\n",
    "    latex_code = f.read()\n",
    "\n",
    "# Define the regex pattern to search for \\CheckBox with optional attributes\n",
    "pattern = r'\\\\CheckBox(\\[[^\\]]*\\])?\\{\\}'\n",
    "\n",
    "# Function to replace each occurrence of \\CheckBox with modified attributes\n",
    "def replace_checkbox(match):\n",
    "    attributes = match.group(1)\n",
    "    new_attributes = f'[bordercolor=1 1 1, {attributes[1:-1]}]'  # Add bordercolor attribute\n",
    "    return f'\\\\CheckBox{new_attributes}{{}}'\n",
    "\n",
    "\n",
    "\n",
    "# Find all occurrences of \\CheckBox and replace them with modified attributes\n",
    "modified_latex_code = re.sub(pattern, replace_checkbox, latex_code)\n",
    "output_file_all = f'{output_prefix}all.tex'\n",
    "with open(output_file_all,'w') as f:\n",
    "    f.write(modified_latex_code)\n",
    "\n",
    "# Split the modified LaTeX code into individual occurrences of \\CheckBox\n",
    "checkbox_occurrences = re.findall(pattern, latex_code)\n",
    "\n",
    "# Generate new .tex files for each occurrence of \\CheckBox\n",
    "for i, occurrence in enumerate(checkbox_occurrences, start=1):\n",
    "    output_file = f'{output_prefix}{i}.tex'\n",
    "    modified_latex_code_i = re.sub(pattern, replace_checkbox, latex_code, count=i)\n",
    "    with open(output_file, 'w') as f:\n",
    "        f.write(modified_latex_code_i)\n",
    "\n",
    "    print(f'File {output_file} generated.')\n",
    "    break\n",
    "    # Revert the modification made to \\CheckBox in the original LaTeX code\n",
    "    \n"
   ]
  },
  {
   "cell_type": "code",
   "execution_count": 11,
   "metadata": {},
   "outputs": [
    {
     "name": "stdout",
     "output_type": "stream",
     "text": [
      "1 (650, 676)\n",
      "File f1_1.tex generated.\n",
      "2 (723, 749)\n",
      "File f1_2.tex generated.\n",
      "3 (796, 822)\n",
      "File f1_3.tex generated.\n",
      "4 (970, 995)\n",
      "File f1_4.tex generated.\n"
     ]
    }
   ],
   "source": [
    "import re\n",
    "\n",
    "# Define the input and output file paths\n",
    "input_file = 'f1.tex'\n",
    "output_prefix = 'f1_'\n",
    "\n",
    "# Read the LaTeX file\n",
    "with open(input_file, 'r') as f:\n",
    "    latex_code = f.read()\n",
    "\n",
    "# Define the regex pattern to search for \\CheckBox with optional attributes\n",
    "pattern = r'\\\\CheckBox(\\[[^\\]]*\\])?\\{\\}'\n",
    "\n",
    "# Function to replace the ith occurrence of the pattern with modified attributes\n",
    "def replace_ith_checkbox(match, i):\n",
    "    attributes = match.group(1)\n",
    "    new_attributes = f'[bordercolor=1 1 1, {attributes[1:-1]}]'  # Add bordercolor attribute\n",
    "    if i == 2:\n",
    "        return f'\\\\CheckBox{new_attributes}{{}}'\n",
    "    else:\n",
    "        return match.group(0)\n",
    "\n",
    "# Find all occurrences of \\CheckBox and replace only the ith occurrence with modified attributes\n",
    "output_file_all = f'{output_prefix}all.tex'\n",
    "modified_latex_code_all = re.sub(pattern, replace_checkbox, latex_code)\n",
    "with open(output_file_all, 'w') as f:\n",
    "    f.write(modified_latex_code_all)\n",
    "\n",
    "checkbox_occurrences = re.finditer(pattern, latex_code)\n",
    "# print(checkbox_occurrences)\n",
    "for i, match in enumerate(checkbox_occurrences, start=1):\n",
    "    print(i,match.span())\n",
    "    output_file = f'{output_prefix}{i}.tex'\n",
    "    modified_latex_code_i = re.sub(pattern, lambda m: replace_ith_checkbox(m, i), latex_code)\n",
    "    with open(output_file, 'w') as f:\n",
    "        f.write(modified_latex_code_i)\n",
    "\n",
    "    print(f'File {output_file} generated.')\n",
    "    \n"
   ]
  },
  {
   "cell_type": "code",
   "execution_count": 6,
   "metadata": {},
   "outputs": [
    {
     "name": "stdout",
     "output_type": "stream",
     "text": [
      "File f1_1.tex generated.\n",
      "File f1_2.tex generated.\n",
      "File f1_3.tex generated.\n",
      "File f1_4.tex generated.\n"
     ]
    }
   ],
   "source": [
    "import re\n",
    "\n",
    "# Define the input and output file paths\n",
    "input_file = r'C:\\Users\\HP\\Downloads\\Forms\\full_latex_files\\f1.tex'\n",
    "output_prefix = 'f1_'\n",
    "\n",
    "# Read the LaTeX file\n",
    "with open(input_file, 'r') as f:\n",
    "    latex_code = f.read()\n",
    "\n",
    "# Define the regex pattern to search for \\CheckBox with optional attributes\n",
    "pattern = r'\\\\CheckBox(\\[[^\\]]*\\])?\\{\\}'\n",
    "\n",
    "# Function to replace each occurrence of \\CheckBox with modified attributes\n",
    "def replace_checkbox(match):\n",
    "    attributes = match.group(1)\n",
    "    new_attributes = f'[bordercolor=1 1 1, {attributes[1:-1]}]'  # Add bordercolor attribute\n",
    "    return f'\\\\CheckBox{new_attributes}{{}}'\n",
    "\n",
    "# Find all occurrences of \\CheckBox and replace only the ith occurrence with modified attributes\n",
    "output_file_all = f'{output_prefix}all.tex'\n",
    "modified_latex_code_all = re.sub(pattern, replace_checkbox, latex_code)\n",
    "with open(output_file_all, 'w') as f:\n",
    "    f.write(modified_latex_code_all)\n",
    "\n",
    "checkbox_occurrences = re.finditer(pattern, latex_code)\n",
    "# print(checkbox_occurrences)\n",
    "inserted_text = 'bordercolor = 0 0 0, '\n",
    "for i, match in enumerate(checkbox_occurrences, start=1):\n",
    "    start, end = match.span()\n",
    "    modified_latex_code_i = modified_latex_code_all[:start+10] + inserted_text + modified_latex_code_all[start+28:]\n",
    "    output_file = f'{output_prefix}{i}.tex'\n",
    "    with open(output_file, 'w') as f:\n",
    "        f.write(modified_latex_code_i)\n",
    "\n",
    "    print(f'File {output_file} generated.')\n",
    "    \n"
   ]
  },
  {
   "cell_type": "code",
   "execution_count": 4,
   "metadata": {},
   "outputs": [
    {
     "name": "stdout",
     "output_type": "stream",
     "text": [
      "File f1_ith.tex generated.\n"
     ]
    }
   ],
   "source": [
    "import re\n",
    "\n",
    "# Define the input and output file paths\n",
    "input_file = r'C:\\Users\\HP\\Downloads\\Forms\\full_latex_files\\f1.tex'\n",
    "output_prefix = 'f1_'\n",
    "\n",
    "# Read the LaTeX file\n",
    "with open(input_file, 'r') as f:\n",
    "    latex_code = f.read()\n",
    "\n",
    "# Define the regex pattern to search for \\CheckBox with optional attributes\n",
    "pattern = r'\\\\CheckBox(\\[[^\\]]*\\])?\\{\\}'\n",
    "\n",
    "# Function to replace the ith occurrence of the pattern with modified attributes\n",
    "def replace_ith_checkbox(match, i):\n",
    "    attributes = match.group(1)\n",
    "    new_attributes = f'[bordercolor=1 1 1, {attributes[1:-1]}]'  # Add bordercolor attribute\n",
    "    if match.start() == i-1:\n",
    "        return f'\\\\CheckBox{new_attributes}{{}}'\n",
    "    else:\n",
    "        return match.group(0)\n",
    "\n",
    "# Generate new .tex file with modified ith occurrence of \\CheckBox\n",
    "output_file = f'{output_prefix}ith.tex'\n",
    "modified_latex_code = re.sub(pattern, lambda m: replace_ith_checkbox(m, 3), latex_code)  # Replace 3rd occurrence\n",
    "with open(output_file, 'w') as f:\n",
    "    f.write(modified_latex_code)\n",
    "\n",
    "print(f'File {output_file} generated.')\n"
   ]
  },
  {
   "cell_type": "code",
   "execution_count": null,
   "metadata": {},
   "outputs": [],
   "source": [
    "r'\\\\CheckBox\\[.*?\\]\\{\\}'"
   ]
  },
  {
   "cell_type": "code",
   "execution_count": 2,
   "metadata": {},
   "outputs": [
    {
     "name": "stdout",
     "output_type": "stream",
     "text": [
      "name=allergy1\n",
      "name=allergy2\n",
      "name=allergy3\n",
      "name=consent\n",
      "File f1_1.tex generated.\n",
      "File f1_2.tex generated.\n",
      "File f1_3.tex generated.\n",
      "File f1_4.tex generated.\n"
     ]
    }
   ],
   "source": [
    "import re\n",
    "\n",
    "# Define the input and output file paths\n",
    "input_file = r'C:\\Users\\HP\\Downloads\\Forms\\full_latex_files\\f1.tex'\n",
    "output_prefix = 'f1_'\n",
    "\n",
    "# Read the LaTeX file\n",
    "with open(input_file, 'r') as f:\n",
    "    latex_code = f.read()\n",
    "\n",
    "# Define the regex pattern to search for \\CheckBox with optional attributes\n",
    "pattern = r'\\\\CheckBox\\[(.*?)\\]'\n",
    "\n",
    "# Function to replace each occurrence of \\CheckBox with modified attributes\n",
    "def replace_checkbox(match):\n",
    "    attributes = match.group(1)\n",
    "    print(attributes)\n",
    "    new_attributes = f'[bordercolor=1 1 1, {attributes[1:-1]}]'  # Add bordercolor attribute\n",
    "    return f'\\\\CheckBox{new_attributes}{{}}'\n",
    "\n",
    "# Find all occurrences of \\CheckBox and replace only the ith occurrence with modified attributes\n",
    "output_file_all = f'{output_prefix}all.tex'\n",
    "modified_latex_code_all = re.sub(pattern, replace_checkbox, latex_code)\n",
    "with open(output_file_all, 'w') as f:\n",
    "    f.write(modified_latex_code_all)\n",
    "\n",
    "checkbox_occurrences = re.finditer(pattern, latex_code)\n",
    "# print(checkbox_occurrences)\n",
    "inserted_text = 'bordercolor = 0 0 0, '\n",
    "for i, match in enumerate(checkbox_occurrences, start=1):\n",
    "    start, end = match.span()\n",
    "    modified_latex_code_i = modified_latex_code_all[:start+10] + inserted_text + modified_latex_code_all[start+27:]\n",
    "    output_file = f'{output_prefix}{i}.tex'\n",
    "    with open(output_file, 'w') as f:\n",
    "        f.write(modified_latex_code_i)\n",
    "\n",
    "    print(f'File {output_file} generated.')\n",
    "    \n"
   ]
  },
  {
   "cell_type": "code",
   "execution_count": null,
   "metadata": {},
   "outputs": [],
   "source": []
  }
 ],
 "metadata": {
  "kernelspec": {
   "display_name": "Python 3",
   "language": "python",
   "name": "python3"
  },
  "language_info": {
   "codemirror_mode": {
    "name": "ipython",
    "version": 3
   },
   "file_extension": ".py",
   "mimetype": "text/x-python",
   "name": "python",
   "nbconvert_exporter": "python",
   "pygments_lexer": "ipython3",
   "version": "3.11.9"
  }
 },
 "nbformat": 4,
 "nbformat_minor": 2
}
